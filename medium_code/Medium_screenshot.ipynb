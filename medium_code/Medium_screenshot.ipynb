{
 "cells": [
  {
   "cell_type": "markdown",
   "metadata": {},
   "source": [
    "# Testing Black Sholes Option Pricing Module"
   ]
  },
  {
   "cell_type": "code",
   "execution_count": 1,
   "metadata": {},
   "outputs": [],
   "source": [
    "#import personal BSM functions\n",
    "import BSM"
   ]
  },
  {
   "cell_type": "code",
   "execution_count": 2,
   "metadata": {},
   "outputs": [
    {
     "name": "stdout",
     "output_type": "stream",
     "text": [
      "8.248697519008402\n"
     ]
    }
   ],
   "source": [
    "x = BSM.price_put(395.91, 390, 54, 0.1886, 0.0167)\n",
    "print(x)"
   ]
  },
  {
   "cell_type": "markdown",
   "metadata": {},
   "source": [
    "## Generate random 45 day series of underlying price to test against CBOE provided Excel"
   ]
  },
  {
   "cell_type": "code",
   "execution_count": null,
   "metadata": {},
   "outputs": [],
   "source": [
    "def spy_price_sim(s0,days,members,vol,vol_offset):\n",
    "    mu = 0.00037335\n",
    "    stdev = (vol-vol_offset)*np.sqrt(1/365)\n",
    "    var= stdev**2\n",
    "    drift = mu - (0.5*var)\n",
    "    #stdev = np.sqrt(var)\n",
    "\n",
    "    daily_returns = np.exp(drift + stdev * norm.ppf(np.random.rand(days, members)))\n",
    "    price_list = np.zeros_like(daily_returns)\n",
    "    price_list[0] = s0\n",
    "    for t in range(1, days):\n",
    "        price_list[t] = price_list[t - 1] * daily_returns[t]\n",
    "    plt.figure(figsize=(10,6))\n",
    "    #plt.axhline(y=s0, color='k', linestyle='-')\n",
    "    plt.axhline(y=s0, color='k', linestyle='-',label='Initial Stock Price') \n",
    "    plt.axhline(y=(strike_put(s0,put_delta,dte,vol,interest)-price_put(s0,strike_put(s0,put_delta,dte,vol,interest),dte,vol,interest)),color='r',label='Break Even Point for '+str(-100*put_delta)+' delta put')\n",
    "    plt.legend()\n",
    "    plt.plot(price_list);\n",
    "    return price_list"
   ]
  },
  {
   "cell_type": "code",
   "execution_count": null,
   "metadata": {},
   "outputs": [],
   "source": [
    "def put_simulate(prices,put_delta,vol,interest):\n",
    "    dte = prices.shape[0]\n",
    "    s0 = prices[0,0]\n",
    "    put_k = strike_put(s0,put_delta,dte,vol,interest)\n",
    "    print(put_k)\n",
    "    put_list = np.zeros_like(prices)\n",
    "    for t in range(0,dte):\n",
    "        put_list[t] = price_put(prices[t],put_k,dte-t,vol,interest)\n",
    "    plt.plot(put_list)\n",
    "    return put_list,put_list[0,0]"
   ]
  },
  {
   "cell_type": "code",
   "execution_count": null,
   "metadata": {},
   "outputs": [],
   "source": [
    "dte = 45\n",
    "s0 = 100\n",
    "put_delta = -.30\n",
    "call_delta = 0.30\n",
    "vol = 0.25\n",
    "vol_offset = 0.03\n",
    "interest = 0.03\n",
    "n = 10"
   ]
  },
  {
   "cell_type": "code",
   "execution_count": null,
   "metadata": {},
   "outputs": [],
   "source": [
    "x = spy_price_sim(s0,dte,n,vol,vol_offset)"
   ]
  },
  {
   "cell_type": "code",
   "execution_count": null,
   "metadata": {
    "scrolled": true
   },
   "outputs": [],
   "source": [
    "puts,put0 = put_simulate(x,put_delta, vol, interest)"
   ]
  },
  {
   "cell_type": "code",
   "execution_count": null,
   "metadata": {},
   "outputs": [],
   "source": [
    "puts,put0 = put_simulate(x,put_delta, vol, interest)"
   ]
  },
  {
   "cell_type": "code",
   "execution_count": null,
   "metadata": {},
   "outputs": [],
   "source": [
    "#Simulated 10 different occurances, but only need one to verify against the Excel\n",
    "np.savetxt(\"stocktest.csv\",x[:,0], delimiter =\",\",  fmt ='% f')\n",
    "np.savetxt(\"puttest.csv\",puts[:,0], delimiter =\",\",  fmt ='% f')"
   ]
  },
  {
   "cell_type": "code",
   "execution_count": null,
   "metadata": {},
   "outputs": [],
   "source": []
  }
 ],
 "metadata": {
  "kernelspec": {
   "display_name": "Python 3",
   "language": "python",
   "name": "python3"
  },
  "language_info": {
   "codemirror_mode": {
    "name": "ipython",
    "version": 3
   },
   "file_extension": ".py",
   "mimetype": "text/x-python",
   "name": "python",
   "nbconvert_exporter": "python",
   "pygments_lexer": "ipython3",
   "version": "3.8.5"
  }
 },
 "nbformat": 4,
 "nbformat_minor": 4
}
